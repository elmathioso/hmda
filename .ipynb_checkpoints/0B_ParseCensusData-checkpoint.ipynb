{
 "cells": [
  {
   "cell_type": "code",
   "execution_count": 1,
   "metadata": {},
   "outputs": [],
   "source": [
    "import pandas as pd\n"
   ]
  },
  {
   "cell_type": "code",
   "execution_count": 28,
   "metadata": {},
   "outputs": [],
   "source": [
    "cols =  [{'NAME': 'FIPS_STATE', 'START': 0, 'STOP': 2, 'LENGTH': 2},\n",
    "         {'NAME': 'FIPS_COUNTY', 'START': 5, 'STOP': 8, 'LENGTH': 3},\n",
    "         {'NAME': 'COUNTY_NAME', 'START': 9, 'STOP': 40, 'LENGTH': 30},\n",
    "         # Unknowns cols\n",
    "         \n",
    "         {'NAME': 'COUNTY_LAT', 'START': 121, 'STOP': 131, 'LENGTH': 9},\n",
    "         {'NAME': 'COUNTY_LONG', 'START': 131, 'STOP': 142, 'LENGTH': 10},\n",
    "        ]\n",
    "# {'NAME': 'SEQUENCE_NUMBER', 'START': 53, 'STOP': 60, 'LENGTH': 7}]"
   ]
  },
  {
   "cell_type": "code",
   "execution_count": 29,
   "metadata": {},
   "outputs": [],
   "source": [
    "filename = 'C:/data/HMDA/Census/1990/Gazetteer/counties.txt'\n",
    "     \n"
   ]
  },
  {
   "cell_type": "code",
   "execution_count": 55,
   "metadata": {},
   "outputs": [],
   "source": [
    "def readDataFile(filename):\n",
    "    \n",
    "    df = pd.read_csv(filename, header=None, delimiter=\"\\t\", names=[\"original\"])\n",
    "\n",
    "    for col in cols:\n",
    "        #print(col['NAME'])\n",
    "        df[col['NAME']] = df.original.map(lambda x: x[col[\"START\"]:col[\"STOP\"]])\n",
    "\n",
    "    df = df.drop(['original'], axis=1)\n",
    "    \n",
    "    \n",
    "    return df"
   ]
  },
  {
   "cell_type": "code",
   "execution_count": 56,
   "metadata": {},
   "outputs": [
    {
     "data": {
      "text/html": [
       "<div>\n",
       "<style scoped>\n",
       "    .dataframe tbody tr th:only-of-type {\n",
       "        vertical-align: middle;\n",
       "    }\n",
       "\n",
       "    .dataframe tbody tr th {\n",
       "        vertical-align: top;\n",
       "    }\n",
       "\n",
       "    .dataframe thead th {\n",
       "        text-align: right;\n",
       "    }\n",
       "</style>\n",
       "<table border=\"1\" class=\"dataframe\">\n",
       "  <thead>\n",
       "    <tr style=\"text-align: right;\">\n",
       "      <th></th>\n",
       "      <th>FIPS_STATE</th>\n",
       "      <th>FIPS_COUNTY</th>\n",
       "      <th>COUNTY_NAME</th>\n",
       "      <th>COUNTY_LAT</th>\n",
       "      <th>COUNTY_LONG</th>\n",
       "    </tr>\n",
       "  </thead>\n",
       "  <tbody>\n",
       "    <tr>\n",
       "      <th>0</th>\n",
       "      <td>02</td>\n",
       "      <td>013</td>\n",
       "      <td>Aleutians East Borough</td>\n",
       "      <td>55.229183</td>\n",
       "      <td>-161.915191</td>\n",
       "    </tr>\n",
       "    <tr>\n",
       "      <th>1</th>\n",
       "      <td>02</td>\n",
       "      <td>016</td>\n",
       "      <td>Aleutians West Census Area</td>\n",
       "      <td>52.242645</td>\n",
       "      <td>-175.129755</td>\n",
       "    </tr>\n",
       "    <tr>\n",
       "      <th>2</th>\n",
       "      <td>02</td>\n",
       "      <td>020</td>\n",
       "      <td>Anchorage Borough</td>\n",
       "      <td>61.178368</td>\n",
       "      <td>-149.186416</td>\n",
       "    </tr>\n",
       "    <tr>\n",
       "      <th>3</th>\n",
       "      <td>02</td>\n",
       "      <td>050</td>\n",
       "      <td>Bethel Census Area</td>\n",
       "      <td>60.939161</td>\n",
       "      <td>-160.147317</td>\n",
       "    </tr>\n",
       "    <tr>\n",
       "      <th>4</th>\n",
       "      <td>02</td>\n",
       "      <td>060</td>\n",
       "      <td>Bristol Bay Borough</td>\n",
       "      <td>58.744623</td>\n",
       "      <td>-156.988097</td>\n",
       "    </tr>\n",
       "  </tbody>\n",
       "</table>\n",
       "</div>"
      ],
      "text/plain": [
       "  FIPS_STATE FIPS_COUNTY                 COUNTY_NAME  COUNTY_LAT  COUNTY_LONG\n",
       "0         02         013      Aleutians East Borough   55.229183  -161.915191\n",
       "1         02         016  Aleutians West Census Area   52.242645  -175.129755\n",
       "2         02         020           Anchorage Borough   61.178368  -149.186416\n",
       "3         02         050          Bethel Census Area   60.939161  -160.147317\n",
       "4         02         060         Bristol Bay Borough   58.744623  -156.988097"
      ]
     },
     "execution_count": 56,
     "metadata": {},
     "output_type": "execute_result"
    }
   ],
   "source": [
    "df = readDataFile(filename)\n",
    "df['COUNTY_NAME'] = df['COUNTY_NAME'].str.strip()\n",
    "\n",
    "df['COUNTY_LAT'] = df['COUNTY_LAT'].astype(float)\n",
    "df['COUNTY_LONG'] = df['COUNTY_LONG'].astype(float)\n",
    "df['COUNTY_LAT'] = df['COUNTY_LAT'] / 1000000\n",
    "df['COUNTY_LONG'] = df['COUNTY_LONG'] / 1000000\n",
    "df.head()"
   ]
  },
  {
   "cell_type": "code",
   "execution_count": 58,
   "metadata": {},
   "outputs": [],
   "source": [
    "df.to_csv('counties.csv', index=False)"
   ]
  },
  {
   "cell_type": "code",
   "execution_count": 59,
   "metadata": {},
   "outputs": [
    {
     "data": {
      "text/html": [
       "<div>\n",
       "<style scoped>\n",
       "    .dataframe tbody tr th:only-of-type {\n",
       "        vertical-align: middle;\n",
       "    }\n",
       "\n",
       "    .dataframe tbody tr th {\n",
       "        vertical-align: top;\n",
       "    }\n",
       "\n",
       "    .dataframe thead th {\n",
       "        text-align: right;\n",
       "    }\n",
       "</style>\n",
       "<table border=\"1\" class=\"dataframe\">\n",
       "  <thead>\n",
       "    <tr style=\"text-align: right;\">\n",
       "      <th></th>\n",
       "      <th>FIPS_STATE</th>\n",
       "      <th>FIPS_COUNTY</th>\n",
       "      <th>COUNTY_NAME</th>\n",
       "      <th>COUNTY_LAT</th>\n",
       "      <th>COUNTY_LONG</th>\n",
       "    </tr>\n",
       "  </thead>\n",
       "  <tbody>\n",
       "    <tr>\n",
       "      <th>620</th>\n",
       "      <td>19</td>\n",
       "      <td>149</td>\n",
       "      <td>Plymouth County</td>\n",
       "      <td>42.736720</td>\n",
       "      <td>-96.216082</td>\n",
       "    </tr>\n",
       "    <tr>\n",
       "      <th>1183</th>\n",
       "      <td>25</td>\n",
       "      <td>023</td>\n",
       "      <td>Plymouth County</td>\n",
       "      <td>41.990716</td>\n",
       "      <td>-70.737379</td>\n",
       "    </tr>\n",
       "  </tbody>\n",
       "</table>\n",
       "</div>"
      ],
      "text/plain": [
       "     FIPS_STATE FIPS_COUNTY      COUNTY_NAME  COUNTY_LAT  COUNTY_LONG\n",
       "620          19         149  Plymouth County   42.736720   -96.216082\n",
       "1183         25         023  Plymouth County   41.990716   -70.737379"
      ]
     },
     "execution_count": 59,
     "metadata": {},
     "output_type": "execute_result"
    }
   ],
   "source": [
    "df[df['COUNTY_NAME'].isin(['Plymouth County'])]"
   ]
  },
  {
   "cell_type": "code",
   "execution_count": null,
   "metadata": {},
   "outputs": [],
   "source": []
  }
 ],
 "metadata": {
  "kernelspec": {
   "display_name": "Python 3",
   "language": "python",
   "name": "python3"
  },
  "language_info": {
   "codemirror_mode": {
    "name": "ipython",
    "version": 3
   },
   "file_extension": ".py",
   "mimetype": "text/x-python",
   "name": "python",
   "nbconvert_exporter": "python",
   "pygments_lexer": "ipython3",
   "version": "3.6.6"
  }
 },
 "nbformat": 4,
 "nbformat_minor": 2
}
