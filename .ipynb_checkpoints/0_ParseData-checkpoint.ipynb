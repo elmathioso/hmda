{
 "cells": [
  {
   "cell_type": "code",
   "execution_count": 1,
   "metadata": {},
   "outputs": [],
   "source": [
    "import pandas as pd\n",
    "import json"
   ]
  },
  {
   "cell_type": "code",
   "execution_count": 2,
   "metadata": {},
   "outputs": [],
   "source": [
    "# Create column format dictionary\n",
    "coldf = pd.read_csv('C:/data/HMDA/HMDA_columns_1990_2004.csv')\n",
    "cols = json.loads(coldf.to_json(orient='records'))"
   ]
  },
  {
   "cell_type": "code",
   "execution_count": 3,
   "metadata": {},
   "outputs": [
    {
     "data": {
      "text/plain": [
       "[{'LENGTH': 4, 'NAME': 'ASOF_DATE', 'START': 0, 'STOP': 4},\n",
       " {'LENGTH': 10, 'NAME': 'RESP_ID', 'START': 4, 'STOP': 14},\n",
       " {'LENGTH': 1, 'NAME': 'AGENCY_CODE', 'START': 14, 'STOP': 15},\n",
       " {'LENGTH': 1, 'NAME': 'LOAN_TYPE', 'START': 15, 'STOP': 16},\n",
       " {'LENGTH': 1, 'NAME': 'LOAN_PURPOSE', 'START': 16, 'STOP': 17},\n",
       " {'LENGTH': 1, 'NAME': 'OCCUPANCY', 'START': 17, 'STOP': 18},\n",
       " {'LENGTH': 5, 'NAME': 'LOAN_AMOUNT', 'START': 18, 'STOP': 23},\n",
       " {'LENGTH': 1, 'NAME': 'ACTION_TYPE', 'START': 23, 'STOP': 24},\n",
       " {'LENGTH': 4, 'NAME': 'PROPERTY_MSA', 'START': 24, 'STOP': 28},\n",
       " {'LENGTH': 2, 'NAME': 'STATE_CODE', 'START': 28, 'STOP': 30},\n",
       " {'LENGTH': 3, 'NAME': 'COUNTY_CODE', 'START': 30, 'STOP': 33},\n",
       " {'LENGTH': 7, 'NAME': 'CENSUS_TRACT_NUMBER', 'START': 33, 'STOP': 40},\n",
       " {'LENGTH': 1, 'NAME': 'RACE_APPLICANT', 'START': 40, 'STOP': 41},\n",
       " {'LENGTH': 1, 'NAME': 'RACE_COAPPLICANT', 'START': 41, 'STOP': 42},\n",
       " {'LENGTH': 1, 'NAME': 'SEX_APPLICANT', 'START': 42, 'STOP': 43},\n",
       " {'LENGTH': 1, 'NAME': 'SEX_COAPPLICANT', 'START': 43, 'STOP': 44},\n",
       " {'LENGTH': 4, 'NAME': 'APPLICANT_INCOME', 'START': 44, 'STOP': 48},\n",
       " {'LENGTH': 1, 'NAME': 'PURCHASER_TYPE', 'START': 48, 'STOP': 49},\n",
       " {'LENGTH': 1, 'NAME': 'DENIAL_REASON_1', 'START': 49, 'STOP': 50},\n",
       " {'LENGTH': 1, 'NAME': 'DENIAL_REASON_2', 'START': 50, 'STOP': 51},\n",
       " {'LENGTH': 1, 'NAME': 'DENIAL_REASON_3', 'START': 51, 'STOP': 52},\n",
       " {'LENGTH': 1, 'NAME': 'EDIT_STATUS', 'START': 52, 'STOP': 53},\n",
       " {'LENGTH': 7, 'NAME': 'SEQUENCE_NUMBER', 'START': 53, 'STOP': 60}]"
      ]
     },
     "execution_count": 3,
     "metadata": {},
     "output_type": "execute_result"
    }
   ],
   "source": [
    "cols"
   ]
  },
  {
   "cell_type": "code",
   "execution_count": 4,
   "metadata": {},
   "outputs": [
    {
     "data": {
      "text/plain": [
       "[1990, 1991, 1992, 1993]"
      ]
     },
     "execution_count": 4,
     "metadata": {},
     "output_type": "execute_result"
    }
   ],
   "source": [
    "#datarange = [x for x in range(1990, 2001, 1)]\n",
    "datarange = [x for x in range(1990, 1994, 1)]\n",
    "datarange"
   ]
  },
  {
   "cell_type": "markdown",
   "metadata": {},
   "source": []
  },
  {
   "cell_type": "code",
   "execution_count": 5,
   "metadata": {},
   "outputs": [
    {
     "name": "stdout",
     "output_type": "stream",
     "text": [
      "1990\n",
      "1991\n",
      "1992\n",
      "1993\n"
     ]
    }
   ],
   "source": [
    "first_file = True\n",
    "for i in datarange:\n",
    "    print(i)\n",
    "    folder = \"c:/data/HMDA/\"\n",
    "    filename = folder + \"HMS.U\" + str(i) + \".LARS\"\n",
    "\n",
    "#     with open(filename) as f:\n",
    "#         line = f.readline()\n",
    "#         print(line)\n",
    "   \n",
    "    if first_file == True:\n",
    "        df = pd.read_csv(filename, header=None, delimiter=\"\\t\", names=[\"original\"])\n",
    "    else:\n",
    "        df.append(pd.read_csv(filename, header=None, delimiter=\"\\t\", names=[\"original\"]))\n"
   ]
  },
  {
   "cell_type": "code",
   "execution_count": 10,
   "metadata": {},
   "outputs": [
    {
     "name": "stdout",
     "output_type": "stream",
     "text": [
      "<class 'pandas.core.frame.DataFrame'>\n",
      "RangeIndex: 15477323 entries, 0 to 15477322\n",
      "Data columns (total 1 columns):\n",
      "original    object\n",
      "dtypes: object(1)\n",
      "memory usage: 118.1+ MB\n"
     ]
    }
   ],
   "source": [
    "df.info()\n"
   ]
  },
  {
   "cell_type": "code",
   "execution_count": 11,
   "metadata": {},
   "outputs": [
    {
     "name": "stdout",
     "output_type": "stream",
     "text": [
      "ASOF_DATE\n",
      "RESP_ID\n",
      "AGENCY_CODE\n",
      "LOAN_TYPE\n",
      "LOAN_PURPOSE\n",
      "OCCUPANCY\n",
      "LOAN_AMOUNT\n",
      "ACTION_TYPE\n",
      "PROPERTY_MSA\n",
      "STATE_CODE\n",
      "COUNTY_CODE\n",
      "CENSUS_TRACT_NUMBER\n",
      "RACE_APPLICANT\n",
      "RACE_COAPPLICANT\n",
      "SEX_APPLICANT\n",
      "SEX_COAPPLICANT\n",
      "APPLICANT_INCOME\n",
      "PURCHASER_TYPE\n",
      "DENIAL_REASON_1\n",
      "DENIAL_REASON_2\n",
      "DENIAL_REASON_3\n",
      "EDIT_STATUS\n",
      "SEQUENCE_NUMBER\n"
     ]
    }
   ],
   "source": [
    "for col in cols:\n",
    "    print(col['NAME'])\n",
    "    df[col['NAME']] = df.original.map(lambda x: x[col[\"START\"]:col[\"STOP\"]])"
   ]
  },
  {
   "cell_type": "code",
   "execution_count": 48,
   "metadata": {},
   "outputs": [
    {
     "data": {
      "text/html": [
       "<div>\n",
       "<style scoped>\n",
       "    .dataframe tbody tr th:only-of-type {\n",
       "        vertical-align: middle;\n",
       "    }\n",
       "\n",
       "    .dataframe tbody tr th {\n",
       "        vertical-align: top;\n",
       "    }\n",
       "\n",
       "    .dataframe thead th {\n",
       "        text-align: right;\n",
       "    }\n",
       "</style>\n",
       "<table border=\"1\" class=\"dataframe\">\n",
       "  <thead>\n",
       "    <tr style=\"text-align: right;\">\n",
       "      <th></th>\n",
       "      <th>STATE_CODE</th>\n",
       "      <th>COUNTY_CODE</th>\n",
       "      <th>CENSUS_TRACT_NUMBER</th>\n",
       "    </tr>\n",
       "  </thead>\n",
       "  <tbody>\n",
       "    <tr>\n",
       "      <th>0</th>\n",
       "      <td>NA</td>\n",
       "      <td>NA</td>\n",
       "      <td>NA</td>\n",
       "    </tr>\n",
       "    <tr>\n",
       "      <th>1</th>\n",
       "      <td>NA</td>\n",
       "      <td>NA</td>\n",
       "      <td>NA</td>\n",
       "    </tr>\n",
       "    <tr>\n",
       "      <th>2</th>\n",
       "      <td>NA</td>\n",
       "      <td>NA</td>\n",
       "      <td>NA</td>\n",
       "    </tr>\n",
       "    <tr>\n",
       "      <th>3</th>\n",
       "      <td>NA</td>\n",
       "      <td>NA</td>\n",
       "      <td>NA</td>\n",
       "    </tr>\n",
       "    <tr>\n",
       "      <th>4</th>\n",
       "      <td>NA</td>\n",
       "      <td>NA</td>\n",
       "      <td>NA</td>\n",
       "    </tr>\n",
       "    <tr>\n",
       "      <th>5</th>\n",
       "      <td>NA</td>\n",
       "      <td>NA</td>\n",
       "      <td>NA</td>\n",
       "    </tr>\n",
       "    <tr>\n",
       "      <th>6</th>\n",
       "      <td>25</td>\n",
       "      <td>023</td>\n",
       "      <td>NA</td>\n",
       "    </tr>\n",
       "    <tr>\n",
       "      <th>7</th>\n",
       "      <td>25</td>\n",
       "      <td>023</td>\n",
       "      <td>NA</td>\n",
       "    </tr>\n",
       "    <tr>\n",
       "      <th>8</th>\n",
       "      <td>25</td>\n",
       "      <td>009</td>\n",
       "      <td>2057.00</td>\n",
       "    </tr>\n",
       "    <tr>\n",
       "      <th>9</th>\n",
       "      <td>25</td>\n",
       "      <td>017</td>\n",
       "      <td>3322.00</td>\n",
       "    </tr>\n",
       "    <tr>\n",
       "      <th>10</th>\n",
       "      <td>25</td>\n",
       "      <td>017</td>\n",
       "      <td>3424.00</td>\n",
       "    </tr>\n",
       "    <tr>\n",
       "      <th>11</th>\n",
       "      <td>25</td>\n",
       "      <td>017</td>\n",
       "      <td>3613.00</td>\n",
       "    </tr>\n",
       "    <tr>\n",
       "      <th>12</th>\n",
       "      <td>25</td>\n",
       "      <td>017</td>\n",
       "      <td>3621.00</td>\n",
       "    </tr>\n",
       "    <tr>\n",
       "      <th>13</th>\n",
       "      <td>25</td>\n",
       "      <td>017</td>\n",
       "      <td>3731.00</td>\n",
       "    </tr>\n",
       "    <tr>\n",
       "      <th>14</th>\n",
       "      <td>25</td>\n",
       "      <td>017</td>\n",
       "      <td>3735.00</td>\n",
       "    </tr>\n",
       "    <tr>\n",
       "      <th>15</th>\n",
       "      <td>25</td>\n",
       "      <td>017</td>\n",
       "      <td>3833.00</td>\n",
       "    </tr>\n",
       "    <tr>\n",
       "      <th>16</th>\n",
       "      <td>25</td>\n",
       "      <td>021</td>\n",
       "      <td>4003.00</td>\n",
       "    </tr>\n",
       "    <tr>\n",
       "      <th>17</th>\n",
       "      <td>25</td>\n",
       "      <td>021</td>\n",
       "      <td>4025.00</td>\n",
       "    </tr>\n",
       "    <tr>\n",
       "      <th>18</th>\n",
       "      <td>25</td>\n",
       "      <td>021</td>\n",
       "      <td>4033.00</td>\n",
       "    </tr>\n",
       "    <tr>\n",
       "      <th>19</th>\n",
       "      <td>25</td>\n",
       "      <td>021</td>\n",
       "      <td>4122.00</td>\n",
       "    </tr>\n",
       "    <tr>\n",
       "      <th>20</th>\n",
       "      <td>25</td>\n",
       "      <td>021</td>\n",
       "      <td>4171.00</td>\n",
       "    </tr>\n",
       "    <tr>\n",
       "      <th>21</th>\n",
       "      <td>25</td>\n",
       "      <td>021</td>\n",
       "      <td>4174.00</td>\n",
       "    </tr>\n",
       "    <tr>\n",
       "      <th>22</th>\n",
       "      <td>25</td>\n",
       "      <td>021</td>\n",
       "      <td>4180.00</td>\n",
       "    </tr>\n",
       "    <tr>\n",
       "      <th>23</th>\n",
       "      <td>25</td>\n",
       "      <td>021</td>\n",
       "      <td>4180.00</td>\n",
       "    </tr>\n",
       "    <tr>\n",
       "      <th>24</th>\n",
       "      <td>25</td>\n",
       "      <td>021</td>\n",
       "      <td>4181.00</td>\n",
       "    </tr>\n",
       "    <tr>\n",
       "      <th>25</th>\n",
       "      <td>25</td>\n",
       "      <td>021</td>\n",
       "      <td>4195.00</td>\n",
       "    </tr>\n",
       "    <tr>\n",
       "      <th>26</th>\n",
       "      <td>25</td>\n",
       "      <td>021</td>\n",
       "      <td>4197.00</td>\n",
       "    </tr>\n",
       "    <tr>\n",
       "      <th>27</th>\n",
       "      <td>25</td>\n",
       "      <td>021</td>\n",
       "      <td>4221.00</td>\n",
       "    </tr>\n",
       "    <tr>\n",
       "      <th>28</th>\n",
       "      <td>25</td>\n",
       "      <td>021</td>\n",
       "      <td>4431.00</td>\n",
       "    </tr>\n",
       "    <tr>\n",
       "      <th>29</th>\n",
       "      <td>25</td>\n",
       "      <td>021</td>\n",
       "      <td>4564.02</td>\n",
       "    </tr>\n",
       "  </tbody>\n",
       "</table>\n",
       "</div>"
      ],
      "text/plain": [
       "   STATE_CODE COUNTY_CODE CENSUS_TRACT_NUMBER\n",
       "0          NA         NA              NA     \n",
       "1          NA         NA              NA     \n",
       "2          NA         NA              NA     \n",
       "3          NA         NA              NA     \n",
       "4          NA         NA              NA     \n",
       "5          NA         NA              NA     \n",
       "6          25         023             NA     \n",
       "7          25         023             NA     \n",
       "8          25         009             2057.00\n",
       "9          25         017             3322.00\n",
       "10         25         017             3424.00\n",
       "11         25         017             3613.00\n",
       "12         25         017             3621.00\n",
       "13         25         017             3731.00\n",
       "14         25         017             3735.00\n",
       "15         25         017             3833.00\n",
       "16         25         021             4003.00\n",
       "17         25         021             4025.00\n",
       "18         25         021             4033.00\n",
       "19         25         021             4122.00\n",
       "20         25         021             4171.00\n",
       "21         25         021             4174.00\n",
       "22         25         021             4180.00\n",
       "23         25         021             4180.00\n",
       "24         25         021             4181.00\n",
       "25         25         021             4195.00\n",
       "26         25         021             4197.00\n",
       "27         25         021             4221.00\n",
       "28         25         021             4431.00\n",
       "29         25         021             4564.02"
      ]
     },
     "execution_count": 48,
     "metadata": {},
     "output_type": "execute_result"
    }
   ],
   "source": [
    "df[[\"STATE_CODE\", \"COUNTY_CODE\", \"CENSUS_TRACT_NUMBER\"]].head(30)"
   ]
  },
  {
   "cell_type": "code",
   "execution_count": 8,
   "metadata": {},
   "outputs": [
    {
     "name": "stdout",
     "output_type": "stream",
     "text": [
      "(0, original    199300000000011111001751NA  NANA NA     571300...\n",
      "Name: 0, dtype: object)\n"
     ]
    }
   ],
   "source": [
    "for i in df.iterrows():\n",
    "    print(i)\n",
    "    break"
   ]
  },
  {
   "cell_type": "code",
   "execution_count": 9,
   "metadata": {},
   "outputs": [
    {
     "ename": "KeyError",
     "evalue": "\"['APPLICANT_INCOME' 'LOAN_AMOUNT'] not in index\"",
     "output_type": "error",
     "traceback": [
      "\u001b[1;31m---------------------------------------------------------------------------\u001b[0m",
      "\u001b[1;31mKeyError\u001b[0m                                  Traceback (most recent call last)",
      "\u001b[1;32m<ipython-input-9-005ce722f536>\u001b[0m in \u001b[0;36m<module>\u001b[1;34m()\u001b[0m\n\u001b[1;32m----> 1\u001b[1;33m \u001b[0mdf\u001b[0m\u001b[1;33m[\u001b[0m\u001b[1;33m[\u001b[0m\u001b[1;34m'APPLICANT_INCOME'\u001b[0m\u001b[1;33m,\u001b[0m \u001b[1;34m'LOAN_AMOUNT'\u001b[0m\u001b[1;33m]\u001b[0m\u001b[1;33m]\u001b[0m\u001b[1;33m\u001b[0m\u001b[0m\n\u001b[0m",
      "\u001b[1;32mC:\\Anaconda3\\envs\\lsci\\lib\\site-packages\\pandas\\core\\frame.py\u001b[0m in \u001b[0;36m__getitem__\u001b[1;34m(self, key)\u001b[0m\n\u001b[0;32m   2680\u001b[0m         \u001b[1;32mif\u001b[0m \u001b[0misinstance\u001b[0m\u001b[1;33m(\u001b[0m\u001b[0mkey\u001b[0m\u001b[1;33m,\u001b[0m \u001b[1;33m(\u001b[0m\u001b[0mSeries\u001b[0m\u001b[1;33m,\u001b[0m \u001b[0mnp\u001b[0m\u001b[1;33m.\u001b[0m\u001b[0mndarray\u001b[0m\u001b[1;33m,\u001b[0m \u001b[0mIndex\u001b[0m\u001b[1;33m,\u001b[0m \u001b[0mlist\u001b[0m\u001b[1;33m)\u001b[0m\u001b[1;33m)\u001b[0m\u001b[1;33m:\u001b[0m\u001b[1;33m\u001b[0m\u001b[0m\n\u001b[0;32m   2681\u001b[0m             \u001b[1;31m# either boolean or fancy integer index\u001b[0m\u001b[1;33m\u001b[0m\u001b[1;33m\u001b[0m\u001b[0m\n\u001b[1;32m-> 2682\u001b[1;33m             \u001b[1;32mreturn\u001b[0m \u001b[0mself\u001b[0m\u001b[1;33m.\u001b[0m\u001b[0m_getitem_array\u001b[0m\u001b[1;33m(\u001b[0m\u001b[0mkey\u001b[0m\u001b[1;33m)\u001b[0m\u001b[1;33m\u001b[0m\u001b[0m\n\u001b[0m\u001b[0;32m   2683\u001b[0m         \u001b[1;32melif\u001b[0m \u001b[0misinstance\u001b[0m\u001b[1;33m(\u001b[0m\u001b[0mkey\u001b[0m\u001b[1;33m,\u001b[0m \u001b[0mDataFrame\u001b[0m\u001b[1;33m)\u001b[0m\u001b[1;33m:\u001b[0m\u001b[1;33m\u001b[0m\u001b[0m\n\u001b[0;32m   2684\u001b[0m             \u001b[1;32mreturn\u001b[0m \u001b[0mself\u001b[0m\u001b[1;33m.\u001b[0m\u001b[0m_getitem_frame\u001b[0m\u001b[1;33m(\u001b[0m\u001b[0mkey\u001b[0m\u001b[1;33m)\u001b[0m\u001b[1;33m\u001b[0m\u001b[0m\n",
      "\u001b[1;32mC:\\Anaconda3\\envs\\lsci\\lib\\site-packages\\pandas\\core\\frame.py\u001b[0m in \u001b[0;36m_getitem_array\u001b[1;34m(self, key)\u001b[0m\n\u001b[0;32m   2724\u001b[0m             \u001b[1;32mreturn\u001b[0m \u001b[0mself\u001b[0m\u001b[1;33m.\u001b[0m\u001b[0m_take\u001b[0m\u001b[1;33m(\u001b[0m\u001b[0mindexer\u001b[0m\u001b[1;33m,\u001b[0m \u001b[0maxis\u001b[0m\u001b[1;33m=\u001b[0m\u001b[1;36m0\u001b[0m\u001b[1;33m)\u001b[0m\u001b[1;33m\u001b[0m\u001b[0m\n\u001b[0;32m   2725\u001b[0m         \u001b[1;32melse\u001b[0m\u001b[1;33m:\u001b[0m\u001b[1;33m\u001b[0m\u001b[0m\n\u001b[1;32m-> 2726\u001b[1;33m             \u001b[0mindexer\u001b[0m \u001b[1;33m=\u001b[0m \u001b[0mself\u001b[0m\u001b[1;33m.\u001b[0m\u001b[0mloc\u001b[0m\u001b[1;33m.\u001b[0m\u001b[0m_convert_to_indexer\u001b[0m\u001b[1;33m(\u001b[0m\u001b[0mkey\u001b[0m\u001b[1;33m,\u001b[0m \u001b[0maxis\u001b[0m\u001b[1;33m=\u001b[0m\u001b[1;36m1\u001b[0m\u001b[1;33m)\u001b[0m\u001b[1;33m\u001b[0m\u001b[0m\n\u001b[0m\u001b[0;32m   2727\u001b[0m             \u001b[1;32mreturn\u001b[0m \u001b[0mself\u001b[0m\u001b[1;33m.\u001b[0m\u001b[0m_take\u001b[0m\u001b[1;33m(\u001b[0m\u001b[0mindexer\u001b[0m\u001b[1;33m,\u001b[0m \u001b[0maxis\u001b[0m\u001b[1;33m=\u001b[0m\u001b[1;36m1\u001b[0m\u001b[1;33m)\u001b[0m\u001b[1;33m\u001b[0m\u001b[0m\n\u001b[0;32m   2728\u001b[0m \u001b[1;33m\u001b[0m\u001b[0m\n",
      "\u001b[1;32mC:\\Anaconda3\\envs\\lsci\\lib\\site-packages\\pandas\\core\\indexing.py\u001b[0m in \u001b[0;36m_convert_to_indexer\u001b[1;34m(self, obj, axis, is_setter)\u001b[0m\n\u001b[0;32m   1325\u001b[0m                 \u001b[1;32mif\u001b[0m \u001b[0mmask\u001b[0m\u001b[1;33m.\u001b[0m\u001b[0many\u001b[0m\u001b[1;33m(\u001b[0m\u001b[1;33m)\u001b[0m\u001b[1;33m:\u001b[0m\u001b[1;33m\u001b[0m\u001b[0m\n\u001b[0;32m   1326\u001b[0m                     raise KeyError('{mask} not in index'\n\u001b[1;32m-> 1327\u001b[1;33m                                    .format(mask=objarr[mask]))\n\u001b[0m\u001b[0;32m   1328\u001b[0m \u001b[1;33m\u001b[0m\u001b[0m\n\u001b[0;32m   1329\u001b[0m                 \u001b[1;32mreturn\u001b[0m \u001b[0mcom\u001b[0m\u001b[1;33m.\u001b[0m\u001b[0m_values_from_object\u001b[0m\u001b[1;33m(\u001b[0m\u001b[0mindexer\u001b[0m\u001b[1;33m)\u001b[0m\u001b[1;33m\u001b[0m\u001b[0m\n",
      "\u001b[1;31mKeyError\u001b[0m: \"['APPLICANT_INCOME' 'LOAN_AMOUNT'] not in index\""
     ]
    }
   ],
   "source": [
    "df[['APPLICANT_INCOME', 'LOAN_AMOUNT']]"
   ]
  },
  {
   "cell_type": "code",
   "execution_count": null,
   "metadata": {},
   "outputs": [],
   "source": []
  }
 ],
 "metadata": {
  "kernelspec": {
   "display_name": "Python 3",
   "language": "python",
   "name": "python3"
  },
  "language_info": {
   "codemirror_mode": {
    "name": "ipython",
    "version": 3
   },
   "file_extension": ".py",
   "mimetype": "text/x-python",
   "name": "python",
   "nbconvert_exporter": "python",
   "pygments_lexer": "ipython3",
   "version": "3.5.6"
  }
 },
 "nbformat": 4,
 "nbformat_minor": 2
}
