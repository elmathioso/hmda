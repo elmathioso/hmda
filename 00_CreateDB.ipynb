{
 "cells": [
  {
   "cell_type": "code",
   "execution_count": 2,
   "metadata": {},
   "outputs": [],
   "source": [
    "import json\n",
    "#import pymysql\n",
    "import pandas as pd\n"
   ]
  },
  {
   "cell_type": "code",
   "execution_count": 7,
   "metadata": {},
   "outputs": [
    {
     "data": {
      "text/plain": [
       "[{'NAME': 'ASOF_DATE', 'START': 0, 'STOP': 4, 'LENGTH': 4},\n",
       " {'NAME': 'RESP_ID', 'START': 4, 'STOP': 14, 'LENGTH': 10},\n",
       " {'NAME': 'AGENCY_CODE', 'START': 14, 'STOP': 15, 'LENGTH': 1},\n",
       " {'NAME': 'LOAN_TYPE', 'START': 15, 'STOP': 16, 'LENGTH': 1},\n",
       " {'NAME': 'LOAN_PURPOSE', 'START': 16, 'STOP': 17, 'LENGTH': 1},\n",
       " {'NAME': 'OCCUPANCY', 'START': 17, 'STOP': 18, 'LENGTH': 1},\n",
       " {'NAME': 'LOAN_AMOUNT', 'START': 18, 'STOP': 23, 'LENGTH': 5},\n",
       " {'NAME': 'ACTION_TYPE', 'START': 23, 'STOP': 24, 'LENGTH': 1},\n",
       " {'NAME': 'PROPERTY_MSA', 'START': 24, 'STOP': 28, 'LENGTH': 4},\n",
       " {'NAME': 'STATE_CODE', 'START': 28, 'STOP': 30, 'LENGTH': 2},\n",
       " {'NAME': 'COUNTY_CODE', 'START': 30, 'STOP': 33, 'LENGTH': 3},\n",
       " {'NAME': 'CENSUS_TRACT_NUMBER', 'START': 33, 'STOP': 40, 'LENGTH': 7},\n",
       " {'NAME': 'RACE_APPLICANT', 'START': 40, 'STOP': 41, 'LENGTH': 1},\n",
       " {'NAME': 'RACE_COAPPLICANT', 'START': 41, 'STOP': 42, 'LENGTH': 1},\n",
       " {'NAME': 'SEX_APPLICANT', 'START': 42, 'STOP': 43, 'LENGTH': 1},\n",
       " {'NAME': 'SEX_COAPPLICANT', 'START': 43, 'STOP': 44, 'LENGTH': 1},\n",
       " {'NAME': 'APPLICANT_INCOME', 'START': 44, 'STOP': 48, 'LENGTH': 4},\n",
       " {'NAME': 'PURCHASER_TYPE', 'START': 48, 'STOP': 49, 'LENGTH': 1},\n",
       " {'NAME': 'DENIAL_REASON_1', 'START': 49, 'STOP': 50, 'LENGTH': 1},\n",
       " {'NAME': 'DENIAL_REASON_2', 'START': 50, 'STOP': 51, 'LENGTH': 1},\n",
       " {'NAME': 'DENIAL_REASON_3', 'START': 51, 'STOP': 52, 'LENGTH': 1},\n",
       " {'NAME': 'EDIT_STATUS', 'START': 52, 'STOP': 53, 'LENGTH': 1},\n",
       " {'NAME': 'SEQUENCE_NUMBER', 'START': 53, 'STOP': 60, 'LENGTH': 7}]"
      ]
     },
     "execution_count": 7,
     "metadata": {},
     "output_type": "execute_result"
    }
   ],
   "source": [
    "# Create column format dictionary\n",
    "coldf = pd.read_csv('C:/data/HMDA/HMDA_columns_1990_2004.csv')\n",
    "cols = json.loads(coldf.to_json(orient='records'))\n",
    "cols"
   ]
  },
  {
   "cell_type": "markdown",
   "metadata": {},
   "source": [
    "Note:  All string types except for ASOF_DATE (value is year) and SEQUENCE_NUMBER"
   ]
  },
  {
   "cell_type": "code",
   "execution_count": 9,
   "metadata": {},
   "outputs": [
    {
     "ename": "TypeError",
     "evalue": "sequence item 0: expected str instance, list found",
     "output_type": "error",
     "traceback": [
      "\u001b[1;31m---------------------------------------------------------------------------\u001b[0m",
      "\u001b[1;31mTypeError\u001b[0m                                 Traceback (most recent call last)",
      "\u001b[1;32m<ipython-input-9-dad208240961>\u001b[0m in \u001b[0;36m<module>\u001b[1;34m\u001b[0m\n\u001b[1;32m----> 1\u001b[1;33m \u001b[0mls\u001b[0m \u001b[1;33m=\u001b[0m \u001b[1;34m\"ASOF_DATE INT NOT NULL, \"\u001b[0m \u001b[1;33m+\u001b[0m \u001b[1;34m''\u001b[0m\u001b[1;33m.\u001b[0m\u001b[0mjoin\u001b[0m\u001b[1;33m(\u001b[0m\u001b[1;33m[\u001b[0m\u001b[1;33m[\u001b[0m\u001b[0mx\u001b[0m\u001b[1;33m[\u001b[0m\u001b[1;34m'NAME'\u001b[0m\u001b[1;33m]\u001b[0m \u001b[1;33m]\u001b[0m \u001b[1;32mfor\u001b[0m \u001b[0mx\u001b[0m \u001b[1;32min\u001b[0m \u001b[0mcols\u001b[0m\u001b[1;33m]\u001b[0m\u001b[1;33m)\u001b[0m\u001b[1;33m\u001b[0m\u001b[0m\n\u001b[0m\u001b[0;32m      2\u001b[0m \u001b[0mls\u001b[0m\u001b[1;33m\u001b[0m\u001b[0m\n",
      "\u001b[1;31mTypeError\u001b[0m: sequence item 0: expected str instance, list found"
     ]
    }
   ],
   "source": [
    "sqlcreate = ''.join([''.join([x['NAME'] + ' VARCHAR(' + str(x['LENGTH']) + '), ']) for x in cols if x['NAME'] != 'SEQUENCE_NUMBER' and x['NAME'] != 'ASOF_DATE'])\n",
    "\n",
    "sqlcreate = \"ASOF_DATE INT, \" + sqlcreate\n",
    "sqlcreate = sqlcreate + \"SEQUENCE_NUMBER INT\"\n",
    "\n",
    "\n",
    "sqlcreate ' CREATE TABLE '"
   ]
  },
  {
   "cell_type": "code",
   "execution_count": 30,
   "metadata": {},
   "outputs": [
    {
     "ename": "ModuleNotFoundError",
     "evalue": "No module named 'pymysql'",
     "output_type": "error",
     "traceback": [
      "\u001b[1;31m---------------------------------------------------------------------------\u001b[0m",
      "\u001b[1;31mModuleNotFoundError\u001b[0m                       Traceback (most recent call last)",
      "\u001b[1;32m<ipython-input-30-090df928682f>\u001b[0m in \u001b[0;36m<module>\u001b[1;34m\u001b[0m\n\u001b[1;32m----> 1\u001b[1;33m \u001b[1;32mimport\u001b[0m \u001b[0mpymysql\u001b[0m\u001b[1;33m.\u001b[0m\u001b[0mcursors\u001b[0m\u001b[1;33m\u001b[0m\u001b[0m\n\u001b[0m",
      "\u001b[1;31mModuleNotFoundError\u001b[0m: No module named 'pymysql'"
     ]
    }
   ],
   "source": [
    "import pymysql.cursors\n"
   ]
  },
  {
   "cell_type": "markdown",
   "metadata": {},
   "source": [
    "CREATE TABLE `hmda`.`lars` (\n",
    "  `appID` INT UNSIGNED NOT NULL AUTO_INCREMENT,\n",
    "  `ASOF_DATE` INT UNSIGNED NOT NULL,\n",
    "  `RESP_ID` VARCHAR(10) NOT NULL,\n",
    "  `AGENCY_CODE` VARCHAR(1) NOT NULL,\n",
    "  `LOAN_TYPE` VARCHAR(1) NOT NULL,\n",
    "  `LOAN_PURPOSE` VARCHAR(1) NOT NULL,\n",
    "  `OCCUPANCY` VARCHAR(1) NOT NULL,\n",
    "  `LOAN_AMOUNT` VARCHAR(5) NOT NULL,\n",
    "  `ACTION_TYPE` VARCHAR(1) NOT NULL,\n",
    "  `PROPERTY_MSA` VARCHAR(5) NOT NULL,\n",
    "  `STATE_CODE` VARCHAR(2) NOT NULL,\n",
    "  `COUNTY_CODE` VARCHAR(3) NOT NULL,\n",
    "  `CENSUS_TRACT_NUMBER` VARCHAR(7) NOT NULL,\n",
    "  `RACE_APPLICANT` VARCHAR(1) NOT NULL,\n",
    "  `RACE_COAPPLICANT` VARCHAR(1) NOT NULL,\n",
    "  `SEX_APPLICANT` VARCHAR(1) NOT NULL,\n",
    "  `SEX_COAPPLICANT` VARCHAR(1) NOT NULL,\n",
    "  `APPLICANT_INCOME` VARCHAR(4) NOT NULL,\n",
    "  `PURCHASER_TYPE` VARCHAR(1) NOT NULL,\n",
    "  `DENIAL_REASON_1` VARCHAR(1) NOT NULL,\n",
    "  `DENIAL_REASON_2` VARCHAR(1) NOT NULL,\n",
    "  `DENIAL_REASON_3` VARCHAR(1) NOT NULL,\n",
    "  `EDIT_STATUS` VARCHAR(1) NOT NULL,\n",
    "  `SEQUENCE_NUMBER` INT NOT NULL,\n",
    "  PRIMARY KEY (`appID`));\n"
   ]
  }
 ],
 "metadata": {
  "kernelspec": {
   "display_name": "Python 3",
   "language": "python",
   "name": "python3"
  },
  "language_info": {
   "codemirror_mode": {
    "name": "ipython",
    "version": 3
   },
   "file_extension": ".py",
   "mimetype": "text/x-python",
   "name": "python",
   "nbconvert_exporter": "python",
   "pygments_lexer": "ipython3",
   "version": "3.6.6"
  }
 },
 "nbformat": 4,
 "nbformat_minor": 2
}
