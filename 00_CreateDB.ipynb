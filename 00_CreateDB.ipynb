{
 "cells": [
  {
   "cell_type": "markdown",
   "metadata": {},
   "source": [
    "*TODO*: Only use `hmda.sql`"
   ]
  },
  {
   "cell_type": "code",
   "execution_count": 1,
   "metadata": {},
   "outputs": [],
   "source": [
    "import json\n",
    "#import pymysql\n",
    "import pandas as pd\n"
   ]
  },
  {
   "cell_type": "code",
   "execution_count": 2,
   "metadata": {},
   "outputs": [
    {
     "data": {
      "text/plain": [
       "[{'LENGTH': 4, 'NAME': 'ASOF_DATE', 'START': 0, 'STOP': 4},\n",
       " {'LENGTH': 10, 'NAME': 'RESP_ID', 'START': 4, 'STOP': 14},\n",
       " {'LENGTH': 1, 'NAME': 'AGENCY_CODE', 'START': 14, 'STOP': 15},\n",
       " {'LENGTH': 1, 'NAME': 'LOAN_TYPE', 'START': 15, 'STOP': 16},\n",
       " {'LENGTH': 1, 'NAME': 'LOAN_PURPOSE', 'START': 16, 'STOP': 17},\n",
       " {'LENGTH': 1, 'NAME': 'OCCUPANCY', 'START': 17, 'STOP': 18},\n",
       " {'LENGTH': 5, 'NAME': 'LOAN_AMOUNT', 'START': 18, 'STOP': 23},\n",
       " {'LENGTH': 1, 'NAME': 'ACTION_TYPE', 'START': 23, 'STOP': 24},\n",
       " {'LENGTH': 4, 'NAME': 'PROPERTY_MSA', 'START': 24, 'STOP': 28},\n",
       " {'LENGTH': 2, 'NAME': 'STATE_CODE', 'START': 28, 'STOP': 30},\n",
       " {'LENGTH': 3, 'NAME': 'COUNTY_CODE', 'START': 30, 'STOP': 33},\n",
       " {'LENGTH': 7, 'NAME': 'CENSUS_TRACT_NUMBER', 'START': 33, 'STOP': 40},\n",
       " {'LENGTH': 1, 'NAME': 'RACE_APPLICANT', 'START': 40, 'STOP': 41},\n",
       " {'LENGTH': 1, 'NAME': 'RACE_COAPPLICANT', 'START': 41, 'STOP': 42},\n",
       " {'LENGTH': 1, 'NAME': 'SEX_APPLICANT', 'START': 42, 'STOP': 43},\n",
       " {'LENGTH': 1, 'NAME': 'SEX_COAPPLICANT', 'START': 43, 'STOP': 44},\n",
       " {'LENGTH': 4, 'NAME': 'APPLICANT_INCOME', 'START': 44, 'STOP': 48},\n",
       " {'LENGTH': 1, 'NAME': 'PURCHASER_TYPE', 'START': 48, 'STOP': 49},\n",
       " {'LENGTH': 1, 'NAME': 'DENIAL_REASON_1', 'START': 49, 'STOP': 50},\n",
       " {'LENGTH': 1, 'NAME': 'DENIAL_REASON_2', 'START': 50, 'STOP': 51},\n",
       " {'LENGTH': 1, 'NAME': 'DENIAL_REASON_3', 'START': 51, 'STOP': 52},\n",
       " {'LENGTH': 1, 'NAME': 'EDIT_STATUS', 'START': 52, 'STOP': 53},\n",
       " {'LENGTH': 7, 'NAME': 'SEQUENCE_NUMBER', 'START': 53, 'STOP': 60}]"
      ]
     },
     "execution_count": 2,
     "metadata": {},
     "output_type": "execute_result"
    }
   ],
   "source": [
    "# Create column format dictionary\n",
    "coldf = pd.read_csv('F:/data/HMDA/HMDA_columns_1990_2004.csv')\n",
    "cols = json.loads(coldf.to_json(orient='records'))\n",
    "cols"
   ]
  },
  {
   "cell_type": "markdown",
   "metadata": {},
   "source": [
    "Note:  All string types except for ASOF_DATE (value is year) and SEQUENCE_NUMBER"
   ]
  },
  {
   "cell_type": "code",
   "execution_count": 3,
   "metadata": {},
   "outputs": [
    {
     "ename": "SyntaxError",
     "evalue": "invalid syntax (<ipython-input-3-227b437e32aa>, line 7)",
     "output_type": "error",
     "traceback": [
      "\u001b[1;36m  File \u001b[1;32m\"<ipython-input-3-227b437e32aa>\"\u001b[1;36m, line \u001b[1;32m7\u001b[0m\n\u001b[1;33m    sqlcreate ' CREATE TABLE '\u001b[0m\n\u001b[1;37m                             ^\u001b[0m\n\u001b[1;31mSyntaxError\u001b[0m\u001b[1;31m:\u001b[0m invalid syntax\n"
     ]
    }
   ],
   "source": [
    "sqlcreate = ''.join([''.join([x['NAME'] + ' VARCHAR(' + str(x['LENGTH']) + '), ']) for x in cols if x['NAME'] != 'SEQUENCE_NUMBER' and x['NAME'] != 'ASOF_DATE'])\n",
    "\n",
    "sqlcreate = \"ASOF_DATE INT, \" + sqlcreate\n",
    "sqlcreate = sqlcreate + \"SEQUENCE_NUMBER INT\"\n",
    "\n",
    "\n",
    "sqlcreate ' CREATE TABLE '"
   ]
  },
  {
   "cell_type": "code",
   "execution_count": 30,
   "metadata": {},
   "outputs": [
    {
     "ename": "ModuleNotFoundError",
     "evalue": "No module named 'pymysql'",
     "output_type": "error",
     "traceback": [
      "\u001b[1;31m---------------------------------------------------------------------------\u001b[0m",
      "\u001b[1;31mModuleNotFoundError\u001b[0m                       Traceback (most recent call last)",
      "\u001b[1;32m<ipython-input-30-090df928682f>\u001b[0m in \u001b[0;36m<module>\u001b[1;34m\u001b[0m\n\u001b[1;32m----> 1\u001b[1;33m \u001b[1;32mimport\u001b[0m \u001b[0mpymysql\u001b[0m\u001b[1;33m.\u001b[0m\u001b[0mcursors\u001b[0m\u001b[1;33m\u001b[0m\u001b[0m\n\u001b[0m",
      "\u001b[1;31mModuleNotFoundError\u001b[0m: No module named 'pymysql'"
     ]
    }
   ],
   "source": [
    "import pymysql.cursors\n"
   ]
  },
  {
   "cell_type": "code",
   "execution_count": 4,
   "metadata": {},
   "outputs": [
    {
     "ename": "SyntaxError",
     "evalue": "invalid syntax (<ipython-input-4-f68a3d11a72c>, line 2)",
     "output_type": "error",
     "traceback": [
      "\u001b[1;36m  File \u001b[1;32m\"<ipython-input-4-f68a3d11a72c>\"\u001b[1;36m, line \u001b[1;32m2\u001b[0m\n\u001b[1;33m    Running: mysql.exe --defaults-file=\"c:\\users\\ghost-~1\\appdata\\local\\temp\\tmpdj1mtv.cnf\"  --protocol=tcp --host=127.0.0.1 --user=root --port=3306 --default-character-set=utf8 --comments --database=hmda  < \"C:\\\\Users\\\\Ghost-Local\\\\git\\\\hmda\\\\hmda.sql\"\u001b[0m\n\u001b[1;37m           ^\u001b[0m\n\u001b[1;31mSyntaxError\u001b[0m\u001b[1;31m:\u001b[0m invalid syntax\n"
     ]
    }
   ],
   "source": [
    "# 14:44:23 Restoring C:\\Users\\Ghost-Local\\git\\hmda\\hmda.sql\n",
    "# Running: mysql.exe --defaults-file=\"c:\\users\\ghost-~1\\appdata\\local\\temp\\tmpdj1mtv.cnf\"  --protocol=tcp --host=127.0.0.1 --user=root --port=3306 --default-character-set=utf8 --comments --database=hmda  < \"C:\\\\Users\\\\Ghost-Local\\\\git\\\\hmda\\\\hmda.sql\"\n",
    "# 14:44:24 Import of C:\\Users\\Ghost-Local\\git\\hmda\\hmda.sql has finished\n"
   ]
  },
  {
   "cell_type": "markdown",
   "metadata": {},
   "source": [
    "CREATE TABLE `hmda`.`lars` (\n",
    "  `appID` INT UNSIGNED NOT NULL AUTO_INCREMENT,\n",
    "  `ASOF_DATE` INT UNSIGNED NOT NULL,\n",
    "  `RESP_ID` VARCHAR(10) NOT NULL,\n",
    "  `AGENCY_CODE` VARCHAR(1) NOT NULL,\n",
    "  `LOAN_TYPE` VARCHAR(1) NOT NULL,\n",
    "  `LOAN_PURPOSE` VARCHAR(1) NOT NULL,\n",
    "  `OCCUPANCY` VARCHAR(1) NOT NULL,\n",
    "  `LOAN_AMOUNT` VARCHAR(5) NOT NULL,\n",
    "  `ACTION_TYPE` VARCHAR(1) NOT NULL,\n",
    "  `PROPERTY_MSA` VARCHAR(5) NOT NULL,\n",
    "  `STATE_CODE` VARCHAR(2) NOT NULL,\n",
    "  `COUNTY_CODE` VARCHAR(3) NOT NULL,\n",
    "  `CENSUS_TRACT_NUMBER` VARCHAR(7) NOT NULL,\n",
    "  `RACE_APPLICANT` VARCHAR(1) NOT NULL,\n",
    "  `RACE_COAPPLICANT` VARCHAR(1) NOT NULL,\n",
    "  `SEX_APPLICANT` VARCHAR(1) NOT NULL,\n",
    "  `SEX_COAPPLICANT` VARCHAR(1) NOT NULL,\n",
    "  `APPLICANT_INCOME` VARCHAR(4) NOT NULL,\n",
    "  `PURCHASER_TYPE` VARCHAR(1) NOT NULL,\n",
    "  `DENIAL_REASON_1` VARCHAR(1) NOT NULL,\n",
    "  `DENIAL_REASON_2` VARCHAR(1) NOT NULL,\n",
    "  `DENIAL_REASON_3` VARCHAR(1) NOT NULL,\n",
    "  `EDIT_STATUS` VARCHAR(1) NOT NULL,\n",
    "  `SEQUENCE_NUMBER` INT NOT NULL,\n",
    "  PRIMARY KEY (`appID`));\n"
   ]
  }
 ],
 "metadata": {
  "kernelspec": {
   "display_name": "Python 3",
   "language": "python",
   "name": "python3"
  },
  "language_info": {
   "codemirror_mode": {
    "name": "ipython",
    "version": 3
   },
   "file_extension": ".py",
   "mimetype": "text/x-python",
   "name": "python",
   "nbconvert_exporter": "python",
   "pygments_lexer": "ipython3",
   "version": "3.5.6"
  }
 },
 "nbformat": 4,
 "nbformat_minor": 2
}
